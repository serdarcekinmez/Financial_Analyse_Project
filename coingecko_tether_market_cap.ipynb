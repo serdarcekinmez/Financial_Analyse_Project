{
 "cells": [
  {
   "cell_type": "code",
   "execution_count": 2,
   "metadata": {},
   "outputs": [],
   "source": [
    "import requests\n",
    "import pandas as pd\n",
    "from datetime import timedelta, date, datetime\n",
    "\n",
    "def daterange(start_date, end_date):\n",
    "    for n in range(int((end_date - start_date).days)):\n",
    "        yield start_date + timedelta(n)\n",
    "\n",
    "end_date = datetime.today().date()\n",
    "start_date = end_date - timedelta(days=15)\n",
    "\n",
    "coin_symbols  = ['tether']\n",
    "\n",
    "for coin in coin_symbols:\n",
    "    data = []\n",
    "    for single_date in daterange(start_date, end_date):\n",
    "        date_str = single_date.strftime(\"%d-%m-%Y\")\n",
    "        url = f'https://api.coingecko.com/api/v3/coins/{coin}/history?date={date_str}'\n",
    "        response = requests.get(url)\n",
    "        if response.status_code == 200:\n",
    "            json_data = response.json()\n",
    "            market_cap = json_data.get('market_data', {}).get('market_cap', {}).get('usd', None)\n",
    "            if market_cap is not None:\n",
    "                data.append({\n",
    "                    'Time_Date': pd.to_datetime(single_date),\n",
    "                    'MarketCap': market_cap\n",
    "                })\n",
    "    if data:\n",
    "        df = pd.DataFrame(data)\n",
    "        df.to_csv(f'C:/Users/serda/OneDrive/Bureau/Online Education/Python-pour-finance/Financial Analyse Project/Coingecko_tether_market_cap/{coin}_market_cap.csv', index=False)\n"
   ]
  },
  {
   "cell_type": "code",
   "execution_count": null,
   "metadata": {},
   "outputs": [],
   "source": []
  }
 ],
 "metadata": {
  "kernelspec": {
   "display_name": "Python 3",
   "language": "python",
   "name": "python3"
  },
  "language_info": {
   "codemirror_mode": {
    "name": "ipython",
    "version": 3
   },
   "file_extension": ".py",
   "mimetype": "text/x-python",
   "name": "python",
   "nbconvert_exporter": "python",
   "pygments_lexer": "ipython3",
   "version": "3.11.2"
  },
  "orig_nbformat": 4
 },
 "nbformat": 4,
 "nbformat_minor": 2
}
